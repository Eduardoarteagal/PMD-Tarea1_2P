{
  "nbformat": 4,
  "nbformat_minor": 0,
  "metadata": {
    "colab": {
      "provenance": [],
      "authorship_tag": "ABX9TyMEqk2Hmm6gAiSxT1DHdjIU",
      "include_colab_link": true
    },
    "kernelspec": {
      "name": "python3",
      "display_name": "Python 3"
    },
    "language_info": {
      "name": "python"
    }
  },
  "cells": [
    {
      "cell_type": "markdown",
      "metadata": {
        "id": "view-in-github",
        "colab_type": "text"
      },
      "source": [
        "<a href=\"https://colab.research.google.com/github/Eduardoarteagal/PMD-Tarea1_2P/blob/main/P2_Actividad_1_P2_Actividad_1_Tarea_1_PMD.ipynb\" target=\"_parent\"><img src=\"https://colab.research.google.com/assets/colab-badge.svg\" alt=\"Open In Colab\"/></a>"
      ]
    },
    {
      "cell_type": "code",
      "execution_count": null,
      "metadata": {
        "colab": {
          "base_uri": "https://localhost:8080/"
        },
        "id": "uyqx0BLzH0ot",
        "outputId": "a6497faa-ab80-4703-eb05-736a8d714bed"
      },
      "outputs": [
        {
          "output_type": "stream",
          "name": "stdout",
          "text": [
            "Collecting pyspark\n",
            "  Downloading pyspark-3.5.1.tar.gz (317.0 MB)\n",
            "\u001b[2K     \u001b[90m━━━━━━━━━━━━━━━━━━━━━━━━━━━━━━━━━━━━━━━━\u001b[0m \u001b[32m317.0/317.0 MB\u001b[0m \u001b[31m4.0 MB/s\u001b[0m eta \u001b[36m0:00:00\u001b[0m\n",
            "\u001b[?25h  Preparing metadata (setup.py) ... \u001b[?25l\u001b[?25hdone\n",
            "Requirement already satisfied: py4j==0.10.9.7 in /usr/local/lib/python3.10/dist-packages (from pyspark) (0.10.9.7)\n",
            "Building wheels for collected packages: pyspark\n",
            "  Building wheel for pyspark (setup.py) ... \u001b[?25l\u001b[?25hdone\n",
            "  Created wheel for pyspark: filename=pyspark-3.5.1-py2.py3-none-any.whl size=317488491 sha256=223bf52aef7ee79aa940c913de9e24147328e1231bd74692439e8bb985d72107\n",
            "  Stored in directory: /root/.cache/pip/wheels/80/1d/60/2c256ed38dddce2fdd93be545214a63e02fbd8d74fb0b7f3a6\n",
            "Successfully built pyspark\n",
            "Installing collected packages: pyspark\n",
            "Successfully installed pyspark-3.5.1\n"
          ]
        }
      ],
      "source": [
        "!pip install pyspark"
      ]
    },
    {
      "cell_type": "code",
      "source": [
        "from pyspark.sql import SparkSession\n",
        "from pyspark import SparkContext, SparkConf\n",
        "\n",
        "# Inicializa SparkContext\n",
        "conf = SparkConf().setAppName(\"Ciudades\").setMaster(\"local[*]\")\n",
        "sc = SparkContext(conf=conf)\n"
      ],
      "metadata": {
        "id": "fK7X0xm6H9B1"
      },
      "execution_count": null,
      "outputs": []
    },
    {
      "cell_type": "code",
      "source": [
        "ciudades = ['Alicante', 'Elche', 'Valencia', 'Madrid', 'Barcelona', 'Bilbao', 'Sevilla']"
      ],
      "metadata": {
        "id": "yw3pKiJ1IVB0"
      },
      "execution_count": null,
      "outputs": []
    },
    {
      "cell_type": "code",
      "source": [
        "#Almacena sólo las ciudades que tengan la letra e en su nombre y muéstralas.\n",
        "ciudades_rdd = sc.parallelize(ciudades)\n",
        "ciudades_con_e_rdd = ciudades_rdd.filter(lambda ciudad: 'e' in ciudad)\n",
        "print(\"Ciudades con 'e':\", ciudades_con_e_rdd.collect())"
      ],
      "metadata": {
        "colab": {
          "base_uri": "https://localhost:8080/"
        },
        "id": "W1BEgYSlIYTm",
        "outputId": "69b8c4ac-3ce2-4326-e93b-e639d983da0f"
      },
      "execution_count": null,
      "outputs": [
        {
          "output_type": "stream",
          "name": "stdout",
          "text": [
            "Ciudades con 'e': ['Alicante', 'Elche', 'Valencia', 'Barcelona', 'Sevilla']\n"
          ]
        }
      ]
    },
    {
      "cell_type": "code",
      "source": [
        "#Muestra las ciudades que tienen la letra e y el número de veces que aparece en cada nombre.\n",
        "ciudades_con_e_count_rdd = ciudades_con_e_rdd.map(lambda ciudad: (ciudad, ciudad.lower().count('e')))\n",
        "print(\"Ciudades con 'e' y su conteo:\", ciudades_con_e_count_rdd.collect())"
      ],
      "metadata": {
        "colab": {
          "base_uri": "https://localhost:8080/"
        },
        "id": "gSimNE1aIm3t",
        "outputId": "adcd49b2-9565-4256-c044-397dfe7229f7"
      },
      "execution_count": null,
      "outputs": [
        {
          "output_type": "stream",
          "name": "stdout",
          "text": [
            "Ciudades con 'e' y su conteo: [('Alicante', 1), ('Elche', 2), ('Valencia', 1), ('Barcelona', 1), ('Sevilla', 1)]\n"
          ]
        }
      ]
    },
    {
      "cell_type": "code",
      "source": [
        "#Averigua las ciudades que solo tengan una única e\n",
        "ciudades_con_una_e_rdd = ciudades_con_e_count_rdd.filter(lambda x: x[1] == 1)\n",
        "print(\"Ciudades con una única 'e':\", ciudades_con_una_e_rdd.collect())"
      ],
      "metadata": {
        "colab": {
          "base_uri": "https://localhost:8080/"
        },
        "id": "SNRWY4W_STkm",
        "outputId": "8421e786-a907-4c31-d737-aafe2c097b49"
      },
      "execution_count": null,
      "outputs": [
        {
          "output_type": "stream",
          "name": "stdout",
          "text": [
            "Ciudades con una única 'e': [('Alicante', 1), ('Valencia', 1), ('Barcelona', 1), ('Sevilla', 1)]\n"
          ]
        }
      ]
    },
    {
      "cell_type": "code",
      "source": [
        "#nueva lista\n",
        "ciudades_mal = [['Alicante.Elche', 'Valencia', 'Madrid.Barcelona', 'Bilbao.Sevilla'], ['Murcia', 'San Sebastián', 'Melilla.Aspe']]\n"
      ],
      "metadata": {
        "id": "4NFMGgrFI5VO"
      },
      "execution_count": null,
      "outputs": []
    },
    {
      "cell_type": "code",
      "source": [
        "\n",
        "#Reorganiza la lista y colocalas correctamente\n",
        "ciudades_mal_rdd = sc.parallelize(ciudades_mal).flatMap(lambda x: x).flatMap(lambda x: x.split('.'))\n",
        "\n",
        "print(\"Lista de ciudades reorganizada:\", ciudades_mal_rdd.collect())"
      ],
      "metadata": {
        "colab": {
          "base_uri": "https://localhost:8080/"
        },
        "id": "WGbE5ljgJDlt",
        "outputId": "a81f56ed-c4ea-4526-bce4-84e0adf3ad95"
      },
      "execution_count": null,
      "outputs": [
        {
          "output_type": "stream",
          "name": "stdout",
          "text": [
            "Lista de ciudades reorganizada: ['Alicante', 'Elche', 'Valencia', 'Madrid', 'Barcelona', 'Bilbao', 'Sevilla', 'Murcia', 'San Sebastián', 'Melilla', 'Aspe']\n"
          ]
        }
      ]
    },
    {
      "cell_type": "code",
      "source": [
        "#Cuenta las apariciones de la letra e de cada ciudad\n",
        "ciudades_bien_conteo_e_rdd = ciudades_mal_rdd.map(lambda ciudad: (ciudad, ciudad.lower().count('e')))\n",
        "print(\"Ciudades reorganizadas y su conteo de 'e':\", ciudades_bien_conteo_e_rdd.collect())"
      ],
      "metadata": {
        "colab": {
          "base_uri": "https://localhost:8080/"
        },
        "id": "bfXH3d6nJPtH",
        "outputId": "d7a72e2b-a2c8-4217-ddeb-acb1b9ef5db5"
      },
      "execution_count": null,
      "outputs": [
        {
          "output_type": "stream",
          "name": "stdout",
          "text": [
            "Ciudades reorganizadas y su conteo de 'e': [('Alicante', 1), ('Elche', 2), ('Valencia', 1), ('Madrid', 0), ('Barcelona', 1), ('Bilbao', 0), ('Sevilla', 1), ('Murcia', 0), ('San Sebastián', 1), ('Melilla', 1), ('Aspe', 1)]\n"
          ]
        }
      ]
    }
  ]
}